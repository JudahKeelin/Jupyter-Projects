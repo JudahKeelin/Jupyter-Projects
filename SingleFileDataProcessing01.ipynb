{
 "cells": [
  {
   "cell_type": "code",
   "execution_count": 15,
   "id": "48880000-d2c8-491a-acfa-e4404338a9c2",
   "metadata": {},
   "outputs": [],
   "source": [
    "import librosa\n",
    "import librosa.display\n",
    "import numpy as np\n",
    "import matplotlib.pyplot as plt\n",
    "import pandas as pd\n",
    "import parselmouth"
   ]
  },
  {
   "cell_type": "code",
   "execution_count": 32,
   "id": "7199e284-17a2-4d5f-a372-4ad73fc3d915",
   "metadata": {},
   "outputs": [],
   "source": [
    "# Path to your audio file\n",
    "audio_path = \"C:/Users/jbkee/OneDrive/Desktop/Jupyter Projects/RAVDESS/Actor_01/03-01-01-01-01-01-01.wav\"  # change to your actual path"
   ]
  },
  {
   "cell_type": "code",
   "execution_count": 33,
   "id": "edbd12af-3498-4935-9ffb-10660f102161",
   "metadata": {},
   "outputs": [
    {
     "name": "stdout",
     "output_type": "stream",
     "text": [
      "03-01-01-01-01-01-01.wav\n",
      "03-01-01-01-01-02-01.wav\n",
      "03-01-01-01-02-01-01.wav\n",
      "03-01-01-01-02-02-01.wav\n",
      "03-01-02-01-01-01-01.wav\n"
     ]
    }
   ],
   "source": [
    "from pathlib import Path\n",
    "data_folder = Path(\"C:/Users/jbkee/OneDrive/Desktop/Jupyter Projects/RAVDESS/Actor_01\")  # adjust to your folder\n",
    "wav_files = list(data_folder.glob(\"*.wav\"))\n",
    "\n",
    "for f in wav_files[:5]:\n",
    "    print(f.name)"
   ]
  },
  {
   "cell_type": "code",
   "execution_count": 34,
   "id": "964dc72c-470a-4e20-b561-8f1dbe1e9138",
   "metadata": {},
   "outputs": [],
   "source": [
    "# --- Load and preprocess audio ---\n",
    "y, sr = librosa.load(audio_path, sr=16000)\n",
    "y, _ = librosa.effects.trim(y, top_db=20)\n",
    "y = y / np.max(np.abs(y))  # normalize"
   ]
  },
  {
   "cell_type": "code",
   "execution_count": 35,
   "id": "2c45408f-c246-4cb8-98bf-77d85b152cac",
   "metadata": {},
   "outputs": [],
   "source": [
    "# --- Extract MFCCs ---\n",
    "mfcc = librosa.feature.mfcc(y=y, sr=sr, n_mfcc=13)\n",
    "mfcc_mean = np.mean(mfcc, axis=1)\n",
    "mfcc_std = np.std(mfcc, axis=1)"
   ]
  },
  {
   "cell_type": "code",
   "execution_count": 36,
   "id": "6cc48533-2598-45a3-8fa8-3dcbfb06d694",
   "metadata": {},
   "outputs": [
    {
     "data": {
      "image/png": "[encoded data removed]",
      "text/plain": [
       "<Figure size 1000x400 with 2 Axes>"
      ]
     },
     "metadata": {},
     "output_type": "display_data"
    }
   ],
   "source": [
    "# --- Plot MFCCs ---\n",
    "plt.figure(figsize=(10, 4))\n",
    "librosa.display.specshow(mfcc, x_axis='time', sr=sr)\n",
    "plt.colorbar()\n",
    "plt.title(\"MFCCs\")\n",
    "plt.tight_layout()\n",
    "plt.show()"
   ]
  },
  {
   "cell_type": "code",
   "execution_count": 37,
   "id": "582143b8-9e7d-4bc2-a5aa-201860ee7d00",
   "metadata": {},
   "outputs": [],
   "source": [
    "# --- Extract pitch using librosa.yin ---\n",
    "pitch = librosa.yin(y, fmin=50, fmax=500, sr=sr)\n",
    "pitch_mean = np.mean(pitch)\n",
    "pitch_std = np.std(pitch)"
   ]
  },
  {
   "cell_type": "code",
   "execution_count": 38,
   "id": "cd9fdb83-b773-4686-a860-0ea698e928a5",
   "metadata": {},
   "outputs": [],
   "source": [
    "# --- Extract formants using Parselmouth ---\n",
    "snd = parselmouth.Sound(audio_path)\n",
    "formant = snd.to_formant_burg()\n",
    "times = np.arange(0, snd.duration, 0.01)\n",
    "f1 = [formant.get_value_at_time(1, t) for t in times]\n",
    "f2 = [formant.get_value_at_time(2, t) for t in times]\n",
    "f3 = [formant.get_value_at_time(3, t) for t in times]"
   ]
  },
  {
   "cell_type": "code",
   "execution_count": 39,
   "id": "bd97fef4-b0d1-4887-9aa7-c954a7523b7f",
   "metadata": {},
   "outputs": [],
   "source": [
    "# Filter out None or zero values\n",
    "f1 = [f for f in f1 if f and f > 0]\n",
    "f2 = [f for f in f2 if f and f > 0]\n",
    "f3 = [f for f in f3 if f and f > 0]"
   ]
  },
  {
   "cell_type": "code",
   "execution_count": 40,
   "id": "7e8d8d15-02bf-4864-9823-1e8388115818",
   "metadata": {},
   "outputs": [],
   "source": [
    "f1_mean = np.mean(f1) if f1 else 0\n",
    "f2_mean = np.mean(f2) if f2 else 0\n",
    "f3_mean = np.mean(f3) if f3 else 0"
   ]
  },
  {
   "cell_type": "code",
   "execution_count": 41,
   "id": "3662a00f-4d13-4cfd-89a7-254422da90b2",
   "metadata": {},
   "outputs": [
    {
     "name": "stdout",
     "output_type": "stream",
     "text": [
      "MFCC mean (first 5): [-134.42795     114.354576    -13.819464     31.798847      0.47914848]\n",
      "Pitch mean: 134.8279708959836\n",
      "Formants (F1, F2, F3): 907.2303786171005 1983.1560894437016 2988.539993791937\n"
     ]
    }
   ],
   "source": [
    "# --- Print to verify ---\n",
    "print(\"MFCC mean (first 5):\", mfcc_mean[:5])\n",
    "print(\"Pitch mean:\", pitch_mean)\n",
    "print(\"Formants (F1, F2, F3):\", f1_mean, f2_mean, f3_mean)"
   ]
  },
  {
   "cell_type": "code",
   "execution_count": 42,
   "id": "b25231b4-3315-4a24-9746-77729303db89",
   "metadata": {},
   "outputs": [],
   "source": [
    "# --- Save features to CSV ---\n",
    "features = {\n",
    "    \"filename\": audio_path.split(\"/\")[-1],\n",
    "    \"mfcc1_mean\": mfcc_mean[0],\n",
    "    \"mfcc2_mean\": mfcc_mean[1],\n",
    "    \"mfcc3_mean\": mfcc_mean[2],\n",
    "    \"pitch_mean\": pitch_mean,\n",
    "    \"pitch_std\": pitch_std,\n",
    "    \"f1_mean\": f1_mean,\n",
    "    \"f2_mean\": f2_mean,\n",
    "    \"f3_mean\": f3_mean\n",
    "}"
   ]
  },
  {
   "cell_type": "code",
   "execution_count": 43,
   "id": "bd0e2191-a952-4505-8f05-dec102425f9a",
   "metadata": {},
   "outputs": [
    {
     "name": "stdout",
     "output_type": "stream",
     "text": [
      "Saved to sample_features.csv\n"
     ]
    }
   ],
   "source": [
    "df = pd.DataFrame([features])\n",
    "df.to_csv(\"sample_features.csv\", index=False)\n",
    "print(\"Saved to sample_features.csv\")"
   ]
  },
  {
   "cell_type": "code",
   "execution_count": null,
   "id": "2b4f2dcc-0a41-439b-8b65-c65c98fad203",
   "metadata": {},
   "outputs": [],
   "source": []
  }
 ],
 "metadata": {
  "kernelspec": {
   "display_name": "Python 3 (ipykernel)",
   "language": "python",
   "name": "python3"
  },
  "language_info": {
   "codemirror_mode": {
    "name": "ipython",
    "version": 3
   },
   "file_extension": ".py",
   "mimetype": "text/x-python",
   "name": "python",
   "nbconvert_exporter": "python",
   "pygments_lexer": "ipython3",
   "version": "3.13.0"
  }
 },
 "nbformat": 4,
 "nbformat_minor": 5
}
