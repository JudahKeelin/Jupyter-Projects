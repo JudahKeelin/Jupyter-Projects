{
 "cells": [
  {
   "cell_type": "code",
   "execution_count": 1,
   "id": "db6fcde5",
   "metadata": {},
   "outputs": [],
   "source": [
    "import joblib # type: ignore\n",
    "import numpy as np # type: ignore\n",
    "import pandas as pd # type: ignore\n",
    "from sklearn.model_selection import train_test_split # type: ignore\n",
    "from sklearn.preprocessing import StandardScaler # type: ignore"
   ]
  },
  {
   "cell_type": "code",
   "execution_count": 2,
   "id": "8340885e",
   "metadata": {},
   "outputs": [
    {
     "data": {
      "text/plain": [
       "['scaler_openSmile_emobase.pkl']"
      ]
     },
     "execution_count": 2,
     "metadata": {},
     "output_type": "execute_result"
    }
   ],
   "source": [
    "df = pd.read_csv(\"openSmile_emobase.csv\")\n",
    "x = df.drop(columns=\"emotion\")\n",
    "y = (df[\"emotion\"] == \"happy\").astype(int)\n",
    "\n",
    "x_train, x_test, y_train, y_test = train_test_split(\n",
    "    x, y,\n",
    "    test_size=0.33,\n",
    "    stratify=y,\n",
    "    random_state=42\n",
    ")\n",
    "\n",
    "x_train.to_csv(\"x_train_openSmile_emobase.csv\", index=False)\n",
    "x_test.to_csv(\"x_test_openSmile_emobase.csv\", index=False)\n",
    "y_train.to_csv(\"y_train_openSmile_emobase.csv\", index=False)\n",
    "y_test.to_csv(\"y_test_openSmile_emobase.csv\", index=False)\n",
    "\n",
    "scaler = StandardScaler().fit(x_train)\n",
    "\n",
    "joblib.dump(scaler, \"scaler_openSmile_emobase.pkl\")"
   ]
  }
 ],
 "metadata": {
  "kernelspec": {
   "display_name": "Python 3 (ipykernel)",
   "language": "python",
   "name": "python3"
  },
  "language_info": {
   "codemirror_mode": {
    "name": "ipython",
    "version": 3
   },
   "file_extension": ".py",
   "mimetype": "text/x-python",
   "name": "python",
   "nbconvert_exporter": "python",
   "pygments_lexer": "ipython3",
   "version": "3.13.3"
  }
 },
 "nbformat": 4,
 "nbformat_minor": 5
}
