{
 "cells": [
  {
   "cell_type": "code",
   "execution_count": null,
   "id": "48f91a61",
   "metadata": {},
   "outputs": [],
   "source": [
    "#imports"
   ]
  },
  {
   "cell_type": "code",
   "execution_count": null,
   "id": "91673e8e",
   "metadata": {},
   "outputs": [],
   "source": [
    "# load data\n",
    "\n"
   ]
  },
  {
   "cell_type": "code",
   "execution_count": null,
   "id": "e7f611fc",
   "metadata": {},
   "outputs": [],
   "source": [
    "# remove outliers"
   ]
  }
 ],
 "metadata": {
  "kernelspec": {
   "display_name": "Python 3",
   "language": "python",
   "name": "python3"
  },
  "language_info": {
   "name": "python",
   "version": "undefined.undefined.undefined"
  }
 },
 "nbformat": 4,
 "nbformat_minor": 5
}
