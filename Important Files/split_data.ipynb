{
 "cells": [
  {
   "cell_type": "code",
   "execution_count": 3,
   "id": "db6fcde5",
   "metadata": {},
   "outputs": [],
   "source": [
    "import joblib # type: ignore\n",
    "import numpy as np # type: ignore\n",
    "import pandas as pd # type: ignore\n",
    "from sklearn.model_selection import train_test_split # type: ignore\n",
    "from sklearn.preprocessing import StandardScaler, LabelEncoder # type: ignore"
   ]
  },
  {
   "cell_type": "code",
   "execution_count": 4,
   "id": "8340885e",
   "metadata": {},
   "outputs": [],
   "source": [
    "df = pd.read_csv(\"combined_features_Custom.csv\")\n",
    "# x = df.drop(columns=[\"emotion\", \"dataset\", \"actor\"])\n",
    "x = df.drop(columns=[\"emotion\"])\n",
    "y = df[\"emotion\"]\n",
    "\n",
    "# Concat emotion, dataset, and actor columns to create labels for stratification\n",
    "# strat = df[\"emotion\"] + \"_\" + df[\"dataset\"] + \"_\" + df[\"actor\"]\n",
    "\n",
    "x_train, x_test, y_train, y_test = train_test_split(\n",
    "    x, y,\n",
    "    test_size=0.33,\n",
    "    stratify=y,\n",
    "    random_state=42\n",
    ")\n",
    "\n",
    "train_librossa = pd.concat([x_train, y_train], axis=1)\n",
    "test_librossa = pd.concat([x_test, y_test], axis=1)\n",
    "\n",
    "train_librossa.to_csv(\"librossa_train.csv\", index=False)\n",
    "test_librossa.to_csv(\"librossa_test.csv\", index=False)\n",
    "# x_train.to_csv(\"x_train_egmaps2_cust_split.csv\", index=False)\n",
    "# x_test.to_csv(\"x_test_egmaps2_cust_split.csv\", index=False)\n",
    "# y_train.to_csv(\"y_train_egmaps2_cust_split.csv\", index=False)\n",
    "# y_test.to_csv(\"y_test_egmaps2_cust_split.csv\", index=False)"
   ]
  },
  {
   "cell_type": "code",
   "execution_count": null,
   "id": "a3737ecf",
   "metadata": {},
   "outputs": [],
   "source": [
    "df = pd.read_csv(\"openSmile_egmaps_edsa.csv\")\n",
    "x = df.drop(columns=[\"emotion\", \"dataset\", \"actor\"])\n",
    "# x = df.drop(columns=[\"emotion\"])\n",
    "y = df[\"emotion\"]\n",
    "\n",
    "# Concat emotion, dataset, and actor columns to create labels for stratification\n",
    "strat = df[\"emotion\"] + \"_\" + df[\"dataset\"] + \"_\" + df[\"actor\"]\n",
    "\n",
    "x_train, x_test, y_train, y_test = train_test_split(\n",
    "    x, y,\n",
    "    test_size=0.33,\n",
    "    stratify=y,\n",
    "    random_state=42\n",
    ")\n",
    "\n",
    "train_egmaps = pd.concat([x_train, y_train], axis=1)\n",
    "test_egmaps = pd.concat([x_test, y_test], axis=1)\n",
    "\n",
    "train_egmaps.to_csv(\"egmaps_train.csv\", index=False)\n",
    "test_egmaps.to_csv(\"egmaps_test.csv\", index=False)\n",
    "# x_train.to_csv(\"x_train_egmaps2_cust_split.csv\", index=False)\n",
    "# x_test.to_csv(\"x_test_egmaps2_cust_split.csv\", index=False)\n",
    "# y_train.to_csv(\"y_train_egmaps2_cust_split.csv\", index=False)\n",
    "# y_test.to_csv(\"y_test_egmaps2_cust_split.csv\", index=False)"
   ]
  }
 ],
 "metadata": {
  "kernelspec": {
   "display_name": ".venv",
   "language": "python",
   "name": "python3"
  },
  "language_info": {
   "codemirror_mode": {
    "name": "ipython",
    "version": 3
   },
   "file_extension": ".py",
   "mimetype": "text/x-python",
   "name": "python",
   "nbconvert_exporter": "python",
   "pygments_lexer": "ipython3",
   "version": "3.13.3"
  }
 },
 "nbformat": 4,
 "nbformat_minor": 5
}
