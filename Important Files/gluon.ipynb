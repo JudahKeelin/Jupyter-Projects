{
 "cells": [
  {
   "cell_type": "code",
   "execution_count": null,
   "id": "ae940dad",
   "metadata": {},
   "outputs": [],
   "source": [
    "from autogluon.tabular import TabularPredictor\n",
    "import pandas as pd\n",
    "\n",
    "df = pd.read_csv(\"librossa_features_emo.csv\")\n",
    "\n",
    "predictor = TabularPredictor(label='emotion').fit(df)\n",
    "\n",
    "# Evaluate\n",
    "results = predictor.evaluate(df)\n",
    "\n",
    "# Save model\n",
    "predictor.save(\"best_model\")"
   ]
  }
 ],
 "metadata": {
  "language_info": {
   "name": "python"
  }
 },
 "nbformat": 4,
 "nbformat_minor": 5
}
