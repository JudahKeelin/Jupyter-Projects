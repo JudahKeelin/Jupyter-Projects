{
 "cells": [
  {
   "cell_type": "code",
   "execution_count": 6,
   "id": "9dc005d0",
   "metadata": {},
   "outputs": [],
   "source": [
    "import pandas as pd\n",
    "from sklearn.decomposition import PCA"
   ]
  },
  {
   "cell_type": "code",
   "execution_count": 7,
   "id": "b6ee1bd2",
   "metadata": {},
   "outputs": [
    {
     "name": "stdout",
     "output_type": "stream",
     "text": [
      "(2374, 64)\n"
     ]
    }
   ],
   "source": [
    "wav2 = pd.read_csv('wav2.csv')\n",
    "x_wav2 = wav2.drop(columns=['emotion'])\n",
    "pca = PCA(n_components=64).fit(x_wav2)\n",
    "x_wav2 = pca.transform(x_wav2)\n",
    "print(x_wav2.shape)\n",
    "\n",
    "opensmile = pd.read_csv('opensmile_gmaps_cluster.csv')\n",
    "combined = pd.concat([opensmile, pd.DataFrame(x_wav2)], axis=1)\n",
    "combined.to_csv('opensmile_wav2.csv', index=False)"
   ]
  },
  {
   "cell_type": "code",
   "execution_count": 8,
   "id": "6dc9fbbb",
   "metadata": {},
   "outputs": [
    {
     "name": "stdout",
     "output_type": "stream",
     "text": [
      "(2374, 127)\n"
     ]
    }
   ],
   "source": [
    "print(combined.shape)"
   ]
  }
 ],
 "metadata": {
  "kernelspec": {
   "display_name": "Python 3",
   "language": "python",
   "name": "python3"
  },
  "language_info": {
   "codemirror_mode": {
    "name": "ipython",
    "version": 3
   },
   "file_extension": ".py",
   "mimetype": "text/x-python",
   "name": "python",
   "nbconvert_exporter": "python",
   "pygments_lexer": "ipython3",
   "version": "3.13.3"
  }
 },
 "nbformat": 4,
 "nbformat_minor": 5
}
