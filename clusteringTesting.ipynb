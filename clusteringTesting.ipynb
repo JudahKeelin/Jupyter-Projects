{
 "cells": [
  {
   "cell_type": "code",
   "execution_count": 6,
   "id": "9bf010a9",
   "metadata": {},
   "outputs": [],
   "source": [
    "import numpy as np # type: ignore\n",
    "import pandas as pd # type: ignore\n",
    "import joblib # type: ignore\n",
    "\n",
    "import matplotlib.pyplot as plt # type: ignore\n",
    "import seaborn as sns # type: ignore\n",
    "\n",
    "from sklearn.preprocessing import MinMaxScaler # type: ignore\n",
    "from sklearn.preprocessing import StandardScaler # type: ignore\n",
    "from sklearn.feature_selection import SelectKBest, mutual_info_classif, SelectFromModel # type: ignore\n",
    "from sklearn.linear_model import LogisticRegression # type: ignore\n",
    "from sklearn.pipeline import Pipeline # type: ignore\n",
    "from sklearn.model_selection import GridSearchCV, train_test_split # type: ignore\n",
    "from sklearn.metrics import confusion_matrix, classification_report, make_scorer, f1_score # type: ignore\n",
    "from imblearn.over_sampling import SMOTE # type: ignore\n",
    "from sklearn.compose import ColumnTransformer # type: ignore\n",
    "from sklearn.ensemble import ExtraTreesClassifier # type: ignore\n",
    "from sklearn.svm import SVC # type: ignore\n",
    "from sklearn.ensemble import RandomForestClassifier # type: ignore\n",
    "from sklearn.utils.class_weight import compute_class_weight # type: ignore\n",
    "from sklearn.neural_network import MLPClassifier # type: ignore\n",
    "from sklearn.model_selection import GridSearchCV # type: ignore\n",
    "from sklearn.neighbors import KNeighborsClassifier # type: ignore\n",
    "from sklearn.inspection import permutation_importance # type: ignore\n",
    "from sklearn.ensemble import StackingClassifier # type: ignore\n",
    "\n",
    "from xgboost import XGBClassifier # type: ignore\n"
   ]
  },
  {
   "cell_type": "code",
   "execution_count": 7,
   "id": "37c264f9",
   "metadata": {},
   "outputs": [
    {
     "name": "stdout",
     "output_type": "stream",
     "text": [
      "Classes: ['negative' 'neutral' 'positive']\n"
     ]
    }
   ],
   "source": [
    "x_train = pd.read_csv('x_train_openSmile_emobase_cluster.csv')\n",
    "y_train = pd.read_csv('y_train_openSmile_emobase_cluster.csv')\n",
    "x_test = pd.read_csv('x_test_openSmile_emobase_cluster.csv')\n",
    "y_test = pd.read_csv('y_test_openSmile_emobase_cluster.csv')\n",
    "\n",
    "classes = y_test[\"emotion\"].unique()\n",
    "print(f\"Classes: {classes}\")"
   ]
  }
 ],
 "metadata": {
  "kernelspec": {
   "display_name": "Python 3 (ipykernel)",
   "language": "python",
   "name": "python3"
  },
  "language_info": {
   "codemirror_mode": {
    "name": "ipython",
    "version": 3
   },
   "file_extension": ".py",
   "mimetype": "text/x-python",
   "name": "python",
   "nbconvert_exporter": "python",
   "pygments_lexer": "ipython3",
   "version": "3.13.3"
  }
 },
 "nbformat": 4,
 "nbformat_minor": 5
}
