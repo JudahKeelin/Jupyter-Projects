{
 "cells": [
  {
   "cell_type": "code",
   "execution_count": null,
   "id": "e81efa39-d133-45ab-af00-8a6b67cfc42e",
   "metadata": {},
   "outputs": [],
   "source": [
    "def extract_emotion_from_emodb_filename(filename):\n",
    "    emotion_map = {\n",
    "        \"w\": \"angry\",\n",
    "        \"e\": \"disgust\",\n",
    "        \"a\": \"fearful\",\n",
    "        \"f\": \"happy\",\n",
    "        \"n\": \"neutral\",\n",
    "        \"t\": \"sad\",\n",
    "    }\n",
    "    \n",
    "    emotion = filename[5]\n",
    "    print(emotion)\n",
    "\n",
    "    return emotion_map.get(emotion, \"unknown\")\n",
    "\n",
    "filename = \"15b09Wb.wav\"\n",
    "\n",
    "emotion = extract_emotion_from_emodb_filename(filename)\n",
    "print(emotion\n"
   ]
  }
 ],
 "metadata": {
  "kernelspec": {
   "display_name": "Python 3 (ipykernel)",
   "language": "python",
   "name": "python3"
  },
  "language_info": {
   "codemirror_mode": {
    "name": "ipython",
    "version": 3
   },
   "file_extension": ".py",
   "mimetype": "text/x-python",
   "name": "python",
   "nbconvert_exporter": "python",
   "pygments_lexer": "ipython3",
   "version": "3.13.3"
  }
 },
 "nbformat": 4,
 "nbformat_minor": 5
}
