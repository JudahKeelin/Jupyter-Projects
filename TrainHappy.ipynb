{
 "cells": [
  {
   "cell_type": "code",
   "execution_count": 1,
   "id": "bafe03a4-9d2f-45b4-9c84-dbbb20a9446c",
   "metadata": {},
   "outputs": [],
   "source": [
    "import numpy as np # type: ignore\n",
    "import pandas as pd # type: ignore\n",
    "\n",
    "import matplotlib.pyplot as plt # type: ignore\n",
    "import seaborn as sns # type: ignore\n",
    "\n",
    "from sklearn.preprocessing import StandardScaler # type: ignore\n",
    "from sklearn.feature_selection import SelectKBest, mutual_info_classif, SelectFromModel # type: ignore\n",
    "from sklearn.linear_model import LogisticRegression # type: ignore\n",
    "from sklearn.pipeline import Pipeline # type: ignore\n",
    "from sklearn.model_selection import GridSearchCV, train_test_split # type: ignore\n",
    "from sklearn.metrics import confusion_matrix, classification_report, make_scorer, f1_score # type: ignore\n",
    "from imblearn.over_sampling import SMOTE # type: ignore\n",
    "from sklearn.compose import ColumnTransformer # type: ignore\n",
    "from sklearn.ensemble import ExtraTreesClassifier # type: ignore\n",
    "from sklearn.svm import SVC # type: ignore\n",
    "from sklearn.ensemble import RandomForestClassifier # type: ignore\n",
    "from sklearn.utils.class_weight import compute_class_weight # type: ignore\n",
    "from sklearn.neural_network import MLPClassifier # type: ignore\n",
    "from sklearn.model_selection import GridSearchCV # type: ignore\n",
    "from sklearn.neighbors import KNeighborsClassifier # type: ignore\n",
    "from sklearn.inspection import permutation_importance # type: ignore\n",
    "\n",
    "from xgboost import XGBClassifier # type: ignore\n",
    "\n",
    "import joblib # type: ignore"
   ]
  },
  {
   "cell_type": "code",
   "execution_count": 2,
   "id": "407017f0",
   "metadata": {},
   "outputs": [],
   "source": [
    "x_train = pd.read_csv('x_train_openSmile_emobase.csv')\n",
    "y_train = pd.read_csv('y_train_openSmile_emobase.csv')\n",
    "x_test = pd.read_csv('x_test_openSmile_emobase.csv')\n",
    "y_test = pd.read_csv('y_test_openSmile_emobase.csv')\n",
    "\n",
    "scaler = joblib.load('scaler_openSmile_emobase.pkl')"
   ]
  },
  {
   "cell_type": "code",
   "execution_count": 3,
   "id": "8dadcf19-4191-405e-be6f-7eb5767bcb0b",
   "metadata": {},
   "outputs": [
    {
     "name": "stderr",
     "output_type": "stream",
     "text": [
      "C:\\Users\\jbkee\\AppData\\Local\\Programs\\Python\\Python313\\Lib\\site-packages\\sklearn\\utils\\validation.py:1408: DataConversionWarning: A column-vector y was passed when a 1d array was expected. Please change the shape of y to (n_samples, ), for example using ravel().\n",
      "  y = column_or_1d(y, warn=True)\n"
     ]
    },
    {
     "name": "stdout",
     "output_type": "stream",
     "text": [
      "Filtered down to 600 features.\n",
      "['pcm_intensity_sma_max', 'pcm_intensity_sma_range', 'pcm_intensity_sma_amean', 'pcm_intensity_sma_linregc1', 'pcm_intensity_sma_linregc2']\n"
     ]
    }
   ],
   "source": [
    "selector = SelectKBest(mutual_info_classif, k=600)\n",
    "selector.fit(x_train, y_train)\n",
    "\n",
    "selected_features = x_train.columns[selector.get_support()].tolist()\n",
    "\n",
    "print(f\"Filtered down to {len(selected_features)} features.\")\n",
    "print(selected_features[:5])"
   ]
  },
  {
   "cell_type": "code",
   "execution_count": 4,
   "id": "9e49dc0f-dae4-40eb-aaec-597ccd12e4c0",
   "metadata": {},
   "outputs": [
    {
     "name": "stderr",
     "output_type": "stream",
     "text": [
      "C:\\Users\\jbkee\\AppData\\Local\\Programs\\Python\\Python313\\Lib\\site-packages\\sklearn\\neural_network\\_multilayer_perceptron.py:1124: DataConversionWarning: A column-vector y was passed when a 1d array was expected. Please change the shape of y to (n_samples, ), for example using ravel().\n",
      "  y = column_or_1d(y, warn=True)\n"
     ]
    },
    {
     "name": "stdout",
     "output_type": "stream",
     "text": [
      "=== Happy Binary Classification Report ===\n",
      "              precision    recall  f1-score   support\n",
      "\n",
      "   not happy       0.91      0.96      0.93       530\n",
      "       happy       0.72      0.54      0.62       107\n",
      "\n",
      "    accuracy                           0.89       637\n",
      "   macro avg       0.82      0.75      0.78       637\n",
      "weighted avg       0.88      0.89      0.88       637\n",
      "\n"
     ]
    },
    {
     "data": {
      "image/png": "[encoded data removed]",
      "text/plain": [
       "<Figure size 600x400 with 2 Axes>"
      ]
     },
     "metadata": {},
     "output_type": "display_data"
    }
   ],
   "source": [
    "selector = ColumnTransformer(\n",
    "  [\n",
    "    (\"pick_happy\", \"passthrough\", selected_features)\n",
    "  ],\n",
    "  remainder=\"drop\"\n",
    ")\n",
    "\n",
    "happy_pipe = Pipeline([\n",
    "    (\"select\", selector),\n",
    "    (\"scaler\", scaler),\n",
    "    (\"clf\", MLPClassifier(\n",
    "        hidden_layer_sizes=(128, 64),\n",
    "        activation=\"relu\",\n",
    "        alpha=1e-3,\n",
    "        learning_rate_init=1e-3,\n",
    "        solver=\"adam\",\n",
    "        max_iter=1000,\n",
    "        random_state=42,\n",
    "        verbose=False\n",
    "    ))\n",
    "])\n",
    "\n",
    "happy_pipe.fit(x_train, y_train)\n",
    "\n",
    "y_pred = happy_pipe.predict(x_test)\n",
    "print(\"=== Happy Binary Classification Report ===\")\n",
    "print(classification_report(y_test, y_pred, target_names=[\"not happy\",\"happy\"]))\n",
    "\n",
    "cm = confusion_matrix(y_test, y_pred)\n",
    "\n",
    "plt.figure(figsize=(6, 4))\n",
    "sns.heatmap(\n",
    "    cm, \n",
    "    annot=True, \n",
    "    fmt=\"d\", \n",
    "    cmap=\"Blues\",\n",
    "    xticklabels=[f\"Not {\"happy\"}\", \"happy\"],\n",
    "    yticklabels=[f\"Not {\"happy\"}\", \"happy\"]\n",
    ")\n",
    "plt.xlabel(\"Predicted\")\n",
    "plt.ylabel(\"True\")\n",
    "plt.title(f\"Confusion Matrix – '{\"happy\"}' Binary Classifier\")\n",
    "plt.tight_layout()\n",
    "plt.show()\n"
   ]
  },
  {
   "cell_type": "code",
   "execution_count": 5,
   "id": "0aeba0c8-7d84-4bd5-9e9a-21804b875b93",
   "metadata": {},
   "outputs": [],
   "source": [
    "x_test_sel = x_test[selected_features]\n",
    "\n",
    "result = permutation_importance(\n",
    "    happy_pipe, \n",
    "    x_test_sel, \n",
    "    y_test, \n",
    "    scoring=\"f1\", \n",
    "    n_repeats=10,\n",
    "    random_state=42,\n",
    "    n_jobs=-1\n",
    ")\n",
    "\n",
    "importances = result.importances_mean\n",
    "\n",
    "idxs      = np.argsort(importances)[::-1]\n",
    "top_n     = 150\n",
    "top_idxs  = idxs[:top_n]\n",
    "top_feats = [selected_features[i] for i in top_idxs]"
   ]
  },
  {
   "cell_type": "code",
   "execution_count": 6,
   "id": "b0fd80df-0d08-4058-9b3c-f84129adddcb",
   "metadata": {},
   "outputs": [
    {
     "name": "stdout",
     "output_type": "stream",
     "text": [
      "Top 50 features by permutation importance:\n",
      "['voiceProb_sma_de_range', 'lspFreq_sma_de[3]_skewness', 'pcm_loudness_sma_de_maxPos', 'pcm_zcr_sma_iqr1-2', 'lspFreq_sma[2]_linregerrA', 'lspFreq_sma[2]_iqr2-3', 'mfcc_sma[7]_skewness', 'voiceProb_sma_de_linregerrQ', 'mfcc_sma[6]_skewness', 'mfcc_sma[8]_iqr2-3', 'pcm_intensity_sma_de_linregc2', 'F0_sma_iqr1-3', 'voiceProb_sma_de_stddev', 'lspFreq_sma_de[5]_minPos', 'lspFreq_sma_de[5]_amean', 'F0_sma_quartile1', 'mfcc_sma_de[12]_maxPos', 'lspFreq_sma[4]_iqr2-3', 'mfcc_sma[10]_quartile3', 'F0env_sma_iqr1-2', 'lspFreq_sma[2]_range', 'mfcc_sma_de[7]_skewness', 'mfcc_sma[2]_quartile2', 'lspFreq_sma[2]_stddev', 'mfcc_sma[9]_quartile1', 'F0env_sma_kurtosis', 'lspFreq_sma_de[1]_range', 'mfcc_sma[5]_amean', 'voiceProb_sma_de_quartile2', 'mfcc_sma[4]_min', 'lspFreq_sma[2]_amean', 'lspFreq_sma[2]_iqr1-3', 'mfcc_sma[2]_linregc1', 'lspFreq_sma_de[7]_skewness', 'mfcc_sma[8]_maxPos', 'mfcc_sma[7]_linregc1', 'lspFreq_sma_de[4]_minPos', 'mfcc_sma[1]_iqr2-3', 'mfcc_sma[11]_range', 'mfcc_sma_de[3]_linregc2', 'pcm_loudness_sma_de_min', 'pcm_loudness_sma_linregerrQ', 'lspFreq_sma_de[7]_iqr1-2', 'mfcc_sma[10]_skewness', 'lspFreq_sma[4]_stddev', 'mfcc_sma_de[1]_quartile1', 'mfcc_sma_de[8]_iqr2-3', 'pcm_loudness_sma_iqr2-3', 'mfcc_sma[2]_linregerrQ', 'lspFreq_sma_de[7]_min', 'pcm_zcr_sma_de_linregc1', 'mfcc_sma_de[2]_stddev', 'F0env_sma_de_minPos', 'mfcc_sma[5]_maxPos', 'mfcc_sma[1]_stddev', 'mfcc_sma[4]_max', 'pcm_intensity_sma_amean', 'lspFreq_sma[7]_linregerrA', 'pcm_zcr_sma_de_quartile1', 'mfcc_sma_de[8]_kurtosis', 'mfcc_sma[9]_amean', 'lspFreq_sma_de[3]_amean', 'lspFreq_sma[0]_max', 'mfcc_sma[6]_stddev', 'voiceProb_sma_range', 'mfcc_sma[1]_kurtosis', 'lspFreq_sma_de[1]_stddev', 'mfcc_sma[8]_quartile1', 'lspFreq_sma[2]_skewness', 'mfcc_sma[12]_iqr2-3', 'mfcc_sma_de[7]_kurtosis', 'mfcc_sma_de[3]_range', 'lspFreq_sma[3]_stddev', 'mfcc_sma[2]_quartile1', 'lspFreq_sma[7]_iqr2-3', 'pcm_intensity_sma_range', 'mfcc_sma_de[3]_min', 'pcm_intensity_sma_de_iqr2-3', 'mfcc_sma_de[4]_min', 'mfcc_sma[12]_quartile3', 'pcm_intensity_sma_linregc1', 'lspFreq_sma_de[5]_iqr1-3', 'voiceProb_sma_de_iqr1-3', 'pcm_intensity_sma_quartile2', 'pcm_intensity_sma_iqr1-2', 'lspFreq_sma[4]_linregerrQ', 'mfcc_sma_de[6]_max', 'lspFreq_sma[4]_quartile3', 'F0env_sma_de_range', 'pcm_intensity_sma_de_stddev', 'lspFreq_sma_de[0]_max', 'lspFreq_sma[2]_linregc2', 'lspFreq_sma[7]_kurtosis', 'lspFreq_sma[3]_maxPos', 'pcm_intensity_sma_de_iqr1-3', 'pcm_intensity_sma_linregc2', 'mfcc_sma_de[8]_linregerrA', 'lspFreq_sma[4]_range', 'lspFreq_sma_de[6]_skewness', 'lspFreq_sma_de[3]_minPos', 'lspFreq_sma_de[0]_minPos', 'mfcc_sma[7]_maxPos', 'mfcc_sma_de[2]_linregerrQ', 'F0_sma_de_kurtosis', 'pcm_intensity_sma_de_linregc1', 'lspFreq_sma_de[1]_iqr2-3', 'pcm_intensity_sma_quartile1', 'pcm_zcr_sma_de_iqr1-2', 'mfcc_sma_de[7]_quartile3', 'mfcc_sma_de[2]_quartile1', 'mfcc_sma_de[1]_quartile3', 'mfcc_sma_de[10]_maxPos', 'pcm_loudness_sma_min', 'mfcc_sma_de[12]_max', 'mfcc_sma_de[7]_linregerrA', 'pcm_loudness_sma_de_linregc2', 'lspFreq_sma_de[5]_iqr2-3', 'pcm_intensity_sma_kurtosis', 'mfcc_sma[2]_iqr1-2', 'pcm_intensity_sma_linregerrQ', 'F0_sma_de_iqr2-3', 'lspFreq_sma_de[6]_quartile3', 'F0_sma_range', 'mfcc_sma_de[5]_maxPos', 'lspFreq_sma_de[1]_minPos', 'F0env_sma_de_max', 'lspFreq_sma[0]_quartile1', 'pcm_loudness_sma_de_linregerrQ', 'F0_sma_de_linregerrQ', 'lspFreq_sma_de[2]_kurtosis', 'pcm_loudness_sma_iqr1-3', 'mfcc_sma_de[4]_iqr1-2', 'mfcc_sma[8]_quartile2', 'lspFreq_sma[0]_quartile3', 'lspFreq_sma_de[2]_stddev', 'pcm_loudness_sma_max', 'F0env_sma_de_stddev', 'lspFreq_sma_de[1]_quartile2', 'pcm_intensity_sma_de_max', 'mfcc_sma[5]_quartile2', 'mfcc_sma_de[3]_linregc1', 'pcm_loudness_sma_amean', 'pcm_intensity_sma_de_range', 'mfcc_sma_de[2]_linregc1', 'lspFreq_sma[3]_iqr1-3', 'pcm_intensity_sma_max', 'lspFreq_sma_de[0]_maxPos', 'lspFreq_sma_de[3]_iqr2-3', 'lspFreq_sma[2]_quartile1', 'mfcc_sma_de[12]_skewness']\n"
     ]
    }
   ],
   "source": [
    "print(\"Top 50 features by permutation importance:\")\n",
    "print(top_feats)"
   ]
  },
  {
   "cell_type": "code",
   "execution_count": 7,
   "id": "25abe82f-c5b7-4668-b3c9-233e155a0fae",
   "metadata": {},
   "outputs": [
    {
     "name": "stderr",
     "output_type": "stream",
     "text": [
      "C:\\Users\\jbkee\\AppData\\Local\\Programs\\Python\\Python313\\Lib\\site-packages\\sklearn\\neural_network\\_multilayer_perceptron.py:1124: DataConversionWarning: A column-vector y was passed when a 1d array was expected. Please change the shape of y to (n_samples, ), for example using ravel().\n",
      "  y = column_or_1d(y, warn=True)\n"
     ]
    },
    {
     "name": "stdout",
     "output_type": "stream",
     "text": [
      "=== Happy Binary Classification Report ===\n",
      "              precision    recall  f1-score   support\n",
      "\n",
      "   not happy       0.90      0.96      0.93       530\n",
      "       happy       0.68      0.46      0.55       107\n",
      "\n",
      "    accuracy                           0.87       637\n",
      "   macro avg       0.79      0.71      0.74       637\n",
      "weighted avg       0.86      0.87      0.86       637\n",
      "\n"
     ]
    },
    {
     "data": {
      "image/png": "[encoded data removed]",
      "text/plain": [
       "<Figure size 600x400 with 2 Axes>"
      ]
     },
     "metadata": {},
     "output_type": "display_data"
    }
   ],
   "source": [
    "selector2 = ColumnTransformer(\n",
    "  [\n",
    "    (\"pick_happy\", \"passthrough\", top_feats)\n",
    "  ],\n",
    "  remainder=\"drop\"\n",
    ")\n",
    "\n",
    "happy_pipe2 = Pipeline([\n",
    "    (\"select\", selector2),\n",
    "    (\"scaler\", scaler),\n",
    "    (\"clf\", MLPClassifier(\n",
    "        hidden_layer_sizes=(128, 64),\n",
    "        activation=\"relu\",\n",
    "        alpha=1e-3,\n",
    "        learning_rate_init=1e-3,\n",
    "        solver=\"adam\",\n",
    "        max_iter=1000,\n",
    "        random_state=42,\n",
    "        verbose=False\n",
    "    ))\n",
    "])\n",
    "\n",
    "happy_pipe2.fit(x_train, y_train)\n",
    "\n",
    "y_pred2 = happy_pipe2.predict(x_test)\n",
    "print(\"=== Happy Binary Classification Report ===\")\n",
    "print(classification_report(y_test, y_pred2, target_names=[\"not happy\",\"happy\"]))\n",
    "\n",
    "cm2 = confusion_matrix(y_test, y_pred)\n",
    "\n",
    "plt.figure(figsize=(6, 4))\n",
    "sns.heatmap(\n",
    "    cm2, \n",
    "    annot=True, \n",
    "    fmt=\"d\", \n",
    "    cmap=\"Blues\",\n",
    "    xticklabels=[f\"Not {\"happy\"}\", \"happy\"],\n",
    "    yticklabels=[f\"Not {\"happy\"}\", \"happy\"]\n",
    ")\n",
    "plt.xlabel(\"Predicted\")\n",
    "plt.ylabel(\"True\")\n",
    "plt.title(f\"Confusion Matrix – '{\"happy\"}' Binary Classifier\")\n",
    "plt.tight_layout()\n",
    "plt.show()\n"
   ]
  },
  {
   "cell_type": "code",
   "execution_count": 8,
   "id": "e6a7f2f1-6a59-44b6-ad96-1861315a1fe7",
   "metadata": {},
   "outputs": [],
   "source": [
    "# (\"clf\", XGBClassifier(\n",
    "#         use_label_encoder=False,\n",
    "#         eval_metric=\"logloss\",\n",
    "#         scale_pos_weight=(y_train==0).sum()/(y_train==1).sum()\n",
    "#     ))\n",
    "# (\"clf\", MLPClassifier(\n",
    "#         hidden_layer_sizes=(128, 64),\n",
    "#         activation=\"relu\",\n",
    "#         alpha=1e-3,\n",
    "#         learning_rate_init=1e-3,\n",
    "#         solver=\"adam\",\n",
    "#         max_iter=1000,\n",
    "#         random_state=42,\n",
    "#         verbose=False\n",
    "#     ))"
   ]
  },
  {
   "cell_type": "code",
   "execution_count": null,
   "id": "a0ce7daa-6150-4060-899d-b37ba2908c6b",
   "metadata": {},
   "outputs": [],
   "source": []
  }
 ],
 "metadata": {
  "kernelspec": {
   "display_name": "Python 3 (ipykernel)",
   "language": "python",
   "name": "python3"
  },
  "language_info": {
   "codemirror_mode": {
    "name": "ipython",
    "version": 3
   },
   "file_extension": ".py",
   "mimetype": "text/x-python",
   "name": "python",
   "nbconvert_exporter": "python",
   "pygments_lexer": "ipython3",
   "version": "3.13.3"
  }
 },
 "nbformat": 4,
 "nbformat_minor": 5
}
