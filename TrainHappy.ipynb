{
 "cells": [
  {
   "cell_type": "code",
   "execution_count": null,
   "id": "bafe03a4-9d2f-45b4-9c84-dbbb20a9446c",
   "metadata": {},
   "outputs": [],
   "source": [
    "import numpy as np # type: ignore\n",
    "import pandas as pd # type: ignore\n",
    "import joblib # type: ignore\n",
    "\n",
    "import matplotlib.pyplot as plt # type: ignore\n",
    "import seaborn as sns # type: ignore\n",
    "\n",
    "from sklearn.preprocessing import StandardScaler # type: ignore\n",
    "from sklearn.feature_selection import SelectKBest, mutual_info_classif, SelectFromModel # type: ignore\n",
    "from sklearn.linear_model import LogisticRegression # type: ignore\n",
    "from sklearn.pipeline import Pipeline # type: ignore\n",
    "from sklearn.model_selection import GridSearchCV, train_test_split # type: ignore\n",
    "from sklearn.metrics import confusion_matrix, classification_report, make_scorer, f1_score # type: ignore\n",
    "from imblearn.over_sampling import SMOTE # type: ignore\n",
    "from sklearn.compose import ColumnTransformer # type: ignore\n",
    "from sklearn.ensemble import ExtraTreesClassifier # type: ignore\n",
    "from sklearn.svm import SVC # type: ignore\n",
    "from sklearn.ensemble import RandomForestClassifier # type: ignore\n",
    "from sklearn.utils.class_weight import compute_class_weight # type: ignore\n",
    "from sklearn.neural_network import MLPClassifier # type: ignore\n",
    "from sklearn.model_selection import GridSearchCV # type: ignore\n",
    "from sklearn.neighbors import KNeighborsClassifier # type: ignore\n",
    "from sklearn.inspection import permutation_importance # type: ignore\n",
    "\n",
    "from xgboost import XGBClassifier # type: ignore\n",
    "\n"
   ]
  },
  {
   "cell_type": "code",
   "execution_count": null,
   "id": "407017f0",
   "metadata": {},
   "outputs": [],
   "source": [
    "x_train = pd.read_csv('x_train_openSmile_emobase.csv')\n",
    "y_train = pd.read_csv('y_train_openSmile_emobase.csv')\n",
    "x_test = pd.read_csv('x_test_openSmile_emobase.csv')\n",
    "y_test = pd.read_csv('y_test_openSmile_emobase.csv')\n",
    "\n",
    "y_test['emotion'] = np.where(y_test['emotion'] == 'happy', 1, 0)\n",
    "y_train['emotion'] = np.where(y_train['emotion'] == 'happy', 1, 0)\n"
   ]
  },
  {
   "cell_type": "code",
   "execution_count": 26,
   "id": "257d39fa",
   "metadata": {},
   "outputs": [
    {
     "name": "stdout",
     "output_type": "stream",
     "text": [
      "emotion\n",
      "0    1077\n",
      "1     216\n",
      "Name: count, dtype: int64\n",
      "emotion\n",
      "0    530\n",
      "1    107\n",
      "Name: count, dtype: int64\n"
     ]
    }
   ],
   "source": [
    "print(y_train['emotion'].value_counts())\n",
    "print(y_test['emotion'].value_counts())"
   ]
  },
  {
   "cell_type": "code",
   "execution_count": 22,
   "id": "8dadcf19-4191-405e-be6f-7eb5767bcb0b",
   "metadata": {},
   "outputs": [
    {
     "name": "stdout",
     "output_type": "stream",
     "text": [
      "Kept 389 features:\n",
      "['pcm_intensity_sma_minPos', 'pcm_loudness_sma_max', 'pcm_loudness_sma_linregerrA', 'pcm_loudness_sma_skewness', 'pcm_loudness_sma_quartile3', 'pcm_loudness_sma_iqr2-3', 'mfcc_sma[1]_min', 'mfcc_sma[1]_range', 'mfcc_sma[1]_maxPos', 'mfcc_sma[1]_linregc1', 'mfcc_sma[1]_linregerrA', 'mfcc_sma[1]_linregerrQ', 'mfcc_sma[1]_stddev', 'mfcc_sma[1]_kurtosis', 'mfcc_sma[1]_iqr2-3', 'mfcc_sma[2]_max', 'mfcc_sma[2]_min', 'mfcc_sma[2]_maxPos', 'mfcc_sma[2]_minPos', 'mfcc_sma[2]_amean', 'mfcc_sma[2]_linregc1', 'mfcc_sma[2]_linregerrA', 'mfcc_sma[2]_linregerrQ', 'mfcc_sma[2]_stddev', 'mfcc_sma[2]_skewness', 'mfcc_sma[2]_kurtosis', 'mfcc_sma[2]_quartile1', 'mfcc_sma[2]_quartile2', 'mfcc_sma[2]_quartile3', 'mfcc_sma[2]_iqr1-2', 'mfcc_sma[2]_iqr2-3', 'mfcc_sma[2]_iqr1-3', 'mfcc_sma[3]_min', 'mfcc_sma[3]_linregerrA', 'mfcc_sma[3]_linregerrQ', 'mfcc_sma[3]_stddev', 'mfcc_sma[3]_skewness', 'mfcc_sma[3]_quartile1', 'mfcc_sma[3]_quartile2', 'mfcc_sma[3]_quartile3', 'mfcc_sma[3]_iqr1-3', 'mfcc_sma[4]_max', 'mfcc_sma[4]_maxPos', 'mfcc_sma[4]_linregerrA', 'mfcc_sma[4]_linregerrQ', 'mfcc_sma[4]_skewness', 'mfcc_sma[4]_kurtosis', 'mfcc_sma[4]_iqr1-2', 'mfcc_sma[5]_max', 'mfcc_sma[5]_min', 'mfcc_sma[5]_range', 'mfcc_sma[5]_maxPos', 'mfcc_sma[5]_minPos', 'mfcc_sma[5]_amean', 'mfcc_sma[5]_linregc1', 'mfcc_sma[5]_linregc2', 'mfcc_sma[5]_linregerrQ', 'mfcc_sma[5]_quartile1', 'mfcc_sma[5]_quartile2', 'mfcc_sma[5]_iqr1-2', 'mfcc_sma[5]_iqr2-3', 'mfcc_sma[5]_iqr1-3', 'mfcc_sma[6]_max', 'mfcc_sma[6]_min', 'mfcc_sma[6]_maxPos', 'mfcc_sma[6]_amean', 'mfcc_sma[6]_linregc1', 'mfcc_sma[6]_kurtosis', 'mfcc_sma[6]_iqr1-2', 'mfcc_sma[7]_max', 'mfcc_sma[7]_linregerrA', 'mfcc_sma[7]_skewness', 'mfcc_sma[7]_quartile2', 'mfcc_sma[7]_iqr1-2', 'mfcc_sma[8]_min', 'mfcc_sma[8]_range', 'mfcc_sma[8]_maxPos', 'mfcc_sma[8]_linregc2', 'mfcc_sma[8]_linregerrA', 'mfcc_sma[8]_linregerrQ', 'mfcc_sma[8]_quartile1', 'mfcc_sma[8]_quartile3', 'mfcc_sma[8]_iqr1-2', 'mfcc_sma[8]_iqr1-3', 'mfcc_sma[9]_max', 'mfcc_sma[9]_skewness', 'mfcc_sma[9]_kurtosis', 'mfcc_sma[9]_quartile1', 'mfcc_sma[10]_max', 'mfcc_sma[10]_minPos', 'mfcc_sma[10]_amean', 'mfcc_sma[10]_linregerrA', 'mfcc_sma[10]_linregerrQ', 'mfcc_sma[10]_stddev', 'mfcc_sma[10]_quartile1', 'mfcc_sma[10]_quartile2', 'mfcc_sma[10]_quartile3', 'mfcc_sma[10]_iqr2-3', 'mfcc_sma[10]_iqr1-3', 'mfcc_sma[11]_max', 'mfcc_sma[11]_range', 'mfcc_sma[11]_amean', 'mfcc_sma[11]_linregc1', 'mfcc_sma[11]_linregc2', 'mfcc_sma[11]_linregerrA', 'mfcc_sma[11]_linregerrQ', 'mfcc_sma[11]_stddev', 'mfcc_sma[11]_quartile2', 'mfcc_sma[11]_iqr1-2', 'mfcc_sma[11]_iqr2-3', 'mfcc_sma[11]_iqr1-3', 'mfcc_sma[12]_max', 'mfcc_sma[12]_min', 'mfcc_sma[12]_range', 'mfcc_sma[12]_linregc1', 'mfcc_sma[12]_linregc2', 'mfcc_sma[12]_linregerrA', 'mfcc_sma[12]_linregerrQ', 'mfcc_sma[12]_stddev', 'mfcc_sma[12]_skewness', 'mfcc_sma[12]_quartile3', 'mfcc_sma[12]_iqr2-3', 'mfcc_sma[12]_iqr1-3', 'lspFreq_sma[0]_quartile2', 'lspFreq_sma[0]_iqr2-3', 'lspFreq_sma[1]_max', 'lspFreq_sma[1]_range', 'lspFreq_sma[1]_skewness', 'lspFreq_sma[1]_kurtosis', 'lspFreq_sma[1]_quartile1', 'lspFreq_sma[1]_iqr2-3', 'lspFreq_sma[2]_max', 'lspFreq_sma[2]_min', 'lspFreq_sma[2]_range', 'lspFreq_sma[2]_amean', 'lspFreq_sma[2]_linregerrA', 'lspFreq_sma[2]_linregerrQ', 'lspFreq_sma[2]_stddev', 'lspFreq_sma[2]_kurtosis', 'lspFreq_sma[2]_quartile1', 'lspFreq_sma[2]_quartile2', 'lspFreq_sma[2]_iqr1-2', 'lspFreq_sma[2]_iqr2-3', 'lspFreq_sma[2]_iqr1-3', 'lspFreq_sma[3]_range', 'lspFreq_sma[3]_minPos', 'lspFreq_sma[3]_amean', 'lspFreq_sma[3]_linregerrA', 'lspFreq_sma[3]_linregerrQ', 'lspFreq_sma[3]_stddev', 'lspFreq_sma[3]_skewness', 'lspFreq_sma[3]_quartile1', 'lspFreq_sma[3]_quartile2', 'lspFreq_sma[3]_iqr1-2', 'lspFreq_sma[3]_iqr2-3', 'lspFreq_sma[3]_iqr1-3', 'lspFreq_sma[4]_min', 'lspFreq_sma[4]_range', 'lspFreq_sma[4]_amean', 'lspFreq_sma[4]_linregc2', 'lspFreq_sma[4]_linregerrA', 'lspFreq_sma[4]_linregerrQ', 'lspFreq_sma[4]_stddev', 'lspFreq_sma[4]_kurtosis', 'lspFreq_sma[4]_quartile1', 'lspFreq_sma[4]_quartile2', 'lspFreq_sma[4]_quartile3', 'lspFreq_sma[4]_iqr1-2', 'lspFreq_sma[4]_iqr2-3', 'lspFreq_sma[4]_iqr1-3', 'lspFreq_sma[5]_range', 'lspFreq_sma[5]_amean', 'lspFreq_sma[5]_linregerrA', 'lspFreq_sma[5]_linregerrQ', 'lspFreq_sma[5]_stddev', 'lspFreq_sma[5]_kurtosis', 'lspFreq_sma[5]_quartile1', 'lspFreq_sma[5]_iqr1-2', 'lspFreq_sma[5]_iqr2-3', 'lspFreq_sma[5]_iqr1-3', 'lspFreq_sma[6]_max', 'lspFreq_sma[6]_min', 'lspFreq_sma[6]_range', 'lspFreq_sma[6]_minPos', 'lspFreq_sma[6]_linregerrQ', 'lspFreq_sma[6]_skewness', 'lspFreq_sma[6]_quartile1', 'lspFreq_sma[6]_quartile3', 'lspFreq_sma[7]_min', 'lspFreq_sma[7]_linregerrQ', 'lspFreq_sma[7]_skewness', 'lspFreq_sma[7]_quartile1', 'lspFreq_sma[7]_iqr1-2', 'lspFreq_sma[7]_iqr1-3', 'pcm_zcr_sma_range', 'pcm_zcr_sma_amean', 'pcm_zcr_sma_linregerrA', 'pcm_zcr_sma_linregerrQ', 'pcm_zcr_sma_skewness', 'pcm_zcr_sma_iqr1-2', 'voiceProb_sma_range', 'voiceProb_sma_amean', 'voiceProb_sma_linregerrA', 'voiceProb_sma_stddev', 'voiceProb_sma_kurtosis', 'voiceProb_sma_quartile1', 'voiceProb_sma_quartile2', 'voiceProb_sma_quartile3', 'voiceProb_sma_iqr2-3', 'F0_sma_max', 'F0_sma_range', 'F0_sma_maxPos', 'F0_sma_amean', 'F0_sma_linregc1', 'F0_sma_linregc2', 'F0_sma_quartile1', 'F0_sma_quartile2', 'F0_sma_quartile3', 'F0_sma_iqr1-3', 'F0env_sma_max', 'F0env_sma_range', 'F0env_sma_linregc1', 'F0env_sma_linregerrA', 'F0env_sma_linregerrQ', 'F0env_sma_stddev', 'F0env_sma_quartile2', 'F0env_sma_iqr1-2', 'F0env_sma_iqr2-3', 'F0env_sma_iqr1-3', 'pcm_intensity_sma_de_maxPos', 'pcm_intensity_sma_de_minPos', 'pcm_intensity_sma_de_skewness', 'pcm_loudness_sma_de_max', 'pcm_loudness_sma_de_min', 'pcm_loudness_sma_de_skewness', 'pcm_loudness_sma_de_kurtosis', 'mfcc_sma_de[1]_max', 'mfcc_sma_de[1]_maxPos', 'mfcc_sma_de[1]_minPos', 'mfcc_sma_de[1]_linregerrA', 'mfcc_sma_de[1]_linregerrQ', 'mfcc_sma_de[1]_stddev', 'mfcc_sma_de[1]_skewness', 'mfcc_sma_de[1]_quartile1', 'mfcc_sma_de[2]_minPos', 'mfcc_sma_de[2]_linregc1', 'mfcc_sma_de[2]_linregc2', 'mfcc_sma_de[2]_linregerrQ', 'mfcc_sma_de[2]_iqr2-3', 'mfcc_sma_de[3]_max', 'mfcc_sma_de[3]_minPos', 'mfcc_sma_de[3]_amean', 'mfcc_sma_de[3]_linregc1', 'mfcc_sma_de[3]_linregc2', 'mfcc_sma_de[3]_linregerrQ', 'mfcc_sma_de[3]_skewness', 'mfcc_sma_de[3]_kurtosis', 'mfcc_sma_de[4]_min', 'mfcc_sma_de[4]_linregc2', 'mfcc_sma_de[4]_quartile2', 'mfcc_sma_de[5]_max', 'mfcc_sma_de[5]_min', 'mfcc_sma_de[5]_range', 'mfcc_sma_de[5]_amean', 'mfcc_sma_de[5]_linregc1', 'mfcc_sma_de[5]_linregc2', 'mfcc_sma_de[5]_skewness', 'mfcc_sma_de[6]_skewness', 'mfcc_sma_de[6]_kurtosis', 'mfcc_sma_de[7]_linregc1', 'mfcc_sma_de[7]_linregc2', 'mfcc_sma_de[7]_linregerrA', 'mfcc_sma_de[8]_linregc1', 'mfcc_sma_de[8]_quartile2', 'mfcc_sma_de[8]_iqr2-3', 'mfcc_sma_de[9]_max', 'mfcc_sma_de[9]_min', 'mfcc_sma_de[9]_range', 'mfcc_sma_de[9]_minPos', 'mfcc_sma_de[9]_skewness', 'mfcc_sma_de[9]_kurtosis', 'mfcc_sma_de[9]_quartile2', 'mfcc_sma_de[9]_iqr1-2', 'mfcc_sma_de[10]_skewness', 'mfcc_sma_de[10]_kurtosis', 'mfcc_sma_de[10]_iqr2-3', 'mfcc_sma_de[11]_min', 'mfcc_sma_de[11]_range', 'mfcc_sma_de[11]_skewness', 'mfcc_sma_de[11]_kurtosis', 'mfcc_sma_de[11]_quartile3', 'mfcc_sma_de[12]_max', 'mfcc_sma_de[12]_range', 'mfcc_sma_de[12]_linregc1', 'mfcc_sma_de[12]_linregc2', 'mfcc_sma_de[12]_linregerrQ', 'mfcc_sma_de[12]_stddev', 'mfcc_sma_de[12]_skewness', 'mfcc_sma_de[12]_kurtosis', 'mfcc_sma_de[12]_quartile1', 'mfcc_sma_de[12]_quartile2', 'mfcc_sma_de[12]_quartile3', 'mfcc_sma_de[12]_iqr1-2', 'mfcc_sma_de[12]_iqr2-3', 'mfcc_sma_de[12]_iqr1-3', 'lspFreq_sma_de[0]_range', 'lspFreq_sma_de[0]_amean', 'lspFreq_sma_de[0]_linregc1', 'lspFreq_sma_de[0]_quartile3', 'lspFreq_sma_de[1]_max', 'lspFreq_sma_de[1]_min', 'lspFreq_sma_de[1]_range', 'lspFreq_sma_de[1]_minPos', 'lspFreq_sma_de[1]_linregc1', 'lspFreq_sma_de[1]_linregerrA', 'lspFreq_sma_de[1]_kurtosis', 'lspFreq_sma_de[2]_range', 'lspFreq_sma_de[2]_linregc1', 'lspFreq_sma_de[2]_linregc2', 'lspFreq_sma_de[2]_skewness', 'lspFreq_sma_de[2]_kurtosis', 'lspFreq_sma_de[3]_range', 'lspFreq_sma_de[3]_minPos', 'lspFreq_sma_de[3]_amean', 'lspFreq_sma_de[3]_linregc1', 'lspFreq_sma_de[3]_linregc2', 'lspFreq_sma_de[3]_linregerrA', 'lspFreq_sma_de[3]_linregerrQ', 'lspFreq_sma_de[3]_stddev', 'lspFreq_sma_de[3]_iqr1-3', 'lspFreq_sma_de[4]_max', 'lspFreq_sma_de[4]_min', 'lspFreq_sma_de[4]_range', 'lspFreq_sma_de[4]_amean', 'lspFreq_sma_de[4]_linregc1', 'lspFreq_sma_de[4]_linregc2', 'lspFreq_sma_de[4]_linregerrQ', 'lspFreq_sma_de[4]_stddev', 'lspFreq_sma_de[4]_skewness', 'lspFreq_sma_de[4]_quartile1', 'lspFreq_sma_de[4]_iqr1-2', 'lspFreq_sma_de[4]_iqr2-3', 'lspFreq_sma_de[4]_iqr1-3', 'lspFreq_sma_de[5]_min', 'lspFreq_sma_de[5]_range', 'lspFreq_sma_de[5]_minPos', 'lspFreq_sma_de[5]_linregc2', 'lspFreq_sma_de[5]_skewness', 'lspFreq_sma_de[5]_quartile2', 'lspFreq_sma_de[6]_min', 'lspFreq_sma_de[6]_range', 'lspFreq_sma_de[6]_linregerrA', 'lspFreq_sma_de[6]_linregerrQ', 'lspFreq_sma_de[6]_stddev', 'lspFreq_sma_de[6]_skewness', 'lspFreq_sma_de[6]_iqr2-3', 'lspFreq_sma_de[7]_max', 'lspFreq_sma_de[7]_min', 'lspFreq_sma_de[7]_range', 'lspFreq_sma_de[7]_minPos', 'lspFreq_sma_de[7]_linregc2', 'lspFreq_sma_de[7]_linregerrA', 'lspFreq_sma_de[7]_linregerrQ', 'lspFreq_sma_de[7]_stddev', 'lspFreq_sma_de[7]_skewness', 'lspFreq_sma_de[7]_iqr2-3', 'pcm_zcr_sma_de_min', 'pcm_zcr_sma_de_minPos', 'pcm_zcr_sma_de_linregc2', 'pcm_zcr_sma_de_linregerrQ', 'pcm_zcr_sma_de_skewness', 'voiceProb_sma_de_range', 'voiceProb_sma_de_maxPos', 'voiceProb_sma_de_linregerrQ', 'voiceProb_sma_de_stddev', 'voiceProb_sma_de_skewness', 'voiceProb_sma_de_kurtosis', 'voiceProb_sma_de_iqr2-3', 'F0_sma_de_max', 'F0_sma_de_linregc1', 'F0_sma_de_linregc2', 'F0_sma_de_skewness', 'F0env_sma_de_min', 'F0env_sma_de_minPos', 'F0env_sma_de_linregerrQ', 'F0env_sma_de_skewness', 'F0env_sma_de_quartile3', 'F0env_sma_de_iqr2-3', 'F0env_sma_de_iqr1-3']\n",
      "Filtered down to 389 features.\n",
      "Index(['pcm_intensity_sma_minPos', 'pcm_loudness_sma_max',\n",
      "       'pcm_loudness_sma_linregerrA', 'pcm_loudness_sma_skewness',\n",
      "       'pcm_loudness_sma_quartile3'],\n",
      "      dtype='object')\n"
     ]
    }
   ],
   "source": [
    "etc = ExtraTreesClassifier(\n",
    "    n_estimators=200,\n",
    "    random_state=42,\n",
    "    n_jobs=-1\n",
    ").fit(x_train, y_train[\"emotion\"])\n",
    "\n",
    "selector = SelectFromModel(etc, threshold=\"mean\", prefit=True)\n",
    "\n",
    "# 5) Grab the feature names\n",
    "selected_features = x_train.columns[selector.get_support()]\n",
    "print(f\"Kept {len(selected_features)} features:\")\n",
    "print(selected_features.tolist())\n",
    "\n",
    "print(f\"Filtered down to {len(selected_features)} features.\")\n",
    "print(selected_features[:5])"
   ]
  },
  {
   "cell_type": "code",
   "execution_count": 27,
   "id": "9e49dc0f-dae4-40eb-aaec-597ccd12e4c0",
   "metadata": {},
   "outputs": [
    {
     "name": "stdout",
     "output_type": "stream",
     "text": [
      "988\n"
     ]
    },
    {
     "name": "stderr",
     "output_type": "stream",
     "text": [
      "C:\\Users\\jbkee\\AppData\\Local\\Programs\\Python\\Python313\\Lib\\site-packages\\sklearn\\utils\\validation.py:1408: DataConversionWarning: A column-vector y was passed when a 1d array was expected. Please change the shape of y to (n_samples, ), for example using ravel().\n",
      "  y = column_or_1d(y, warn=True)\n"
     ]
    },
    {
     "name": "stdout",
     "output_type": "stream",
     "text": [
      "=== Happy Binary Classification Report ===\n",
      "              precision    recall  f1-score   support\n",
      "\n",
      "   not happy       0.90      0.45      0.60       530\n",
      "       happy       0.22      0.77      0.34       107\n",
      "\n",
      "    accuracy                           0.50       637\n",
      "   macro avg       0.56      0.61      0.47       637\n",
      "weighted avg       0.79      0.50      0.56       637\n",
      "\n"
     ]
    },
    {
     "data": {
      "image/png": "[encoded data removed]",
      "text/plain": [
       "<Figure size 600x400 with 2 Axes>"
      ]
     },
     "metadata": {},
     "output_type": "display_data"
    }
   ],
   "source": [
    "selector = ColumnTransformer(\n",
    "  [\n",
    "    (\"pick_happy\", \"passthrough\", selected_features)\n",
    "  ],\n",
    "  remainder=\"drop\"\n",
    ")\n",
    "\n",
    "test = print(x_train.shape[1])\n",
    "\n",
    "mlp = MLPClassifier(\n",
    "  hidden_layer_sizes=(128, 64),\n",
    "  activation=\"relu\",\n",
    "  alpha=1e-3,\n",
    "  learning_rate_init=1e-3,\n",
    "  solver=\"adam\",\n",
    "  max_iter=1000,\n",
    "  random_state=42,\n",
    "  verbose=False\n",
    ")\n",
    "\n",
    "svc = SVC(\n",
    "  kernel=\"rbf\",\n",
    "  class_weight=\"balanced\",\n",
    "  probability=True,\n",
    "  random_state=42\n",
    ")\n",
    "\n",
    "happy_pipe = Pipeline([\n",
    "    (\"select\", selector),\n",
    "    (\"test\", test),\n",
    "    (\"clf\", svc)\n",
    "])\n",
    "\n",
    "happy_pipe.fit(x_train, y_train)\n",
    "\n",
    "y_pred = happy_pipe.predict(x_test)\n",
    "print(\"=== Happy Binary Classification Report ===\")\n",
    "print(classification_report(y_test, y_pred, target_names=[\"not happy\",\"happy\"]))\n",
    "\n",
    "cm = confusion_matrix(y_test, y_pred)\n",
    "\n",
    "plt.figure(figsize=(6, 4))\n",
    "sns.heatmap(\n",
    "    cm, \n",
    "    annot=True, \n",
    "    fmt=\"d\", \n",
    "    cmap=\"Blues\",\n",
    "    xticklabels=[f\"Not {\"happy\"}\", \"happy\"],\n",
    "    yticklabels=[f\"Not {\"happy\"}\", \"happy\"]\n",
    ")\n",
    "plt.xlabel(\"Predicted\")\n",
    "plt.ylabel(\"True\")\n",
    "plt.title(f\"Confusion Matrix – '{\"happy\"}' Binary Classifier\")\n",
    "plt.tight_layout()\n",
    "plt.show()\n"
   ]
  },
  {
   "cell_type": "code",
   "execution_count": null,
   "id": "0aeba0c8-7d84-4bd5-9e9a-21804b875b93",
   "metadata": {},
   "outputs": [],
   "source": [
    "x_test_sel = x_test[selected_features]\n",
    "\n",
    "result = permutation_importance(\n",
    "    happy_pipe, \n",
    "    x_test_sel, \n",
    "    y_test, \n",
    "    scoring=\"f1\", \n",
    "    n_repeats=10,\n",
    "    random_state=42,\n",
    "    n_jobs=-1\n",
    ")\n",
    "\n",
    "importances = result.importances_mean\n",
    "\n",
    "idxs      = np.argsort(importances)[::-1]\n",
    "top_n     = 150\n",
    "top_idxs  = idxs[:top_n]\n",
    "top_feats = [selected_features[i] for i in top_idxs]"
   ]
  },
  {
   "cell_type": "code",
   "execution_count": null,
   "id": "b0fd80df-0d08-4058-9b3c-f84129adddcb",
   "metadata": {},
   "outputs": [
    {
     "name": "stdout",
     "output_type": "stream",
     "text": [
      "Top {top_n} features by permutation importance:\n",
      "['F0env_sma_de_skewness', 'mfcc_sma[12]_iqr2-3', 'voiceProb_sma_de_maxPos', 'mfcc_sma_de[9]_min', 'lspFreq_sma_de[3]_maxPos', 'F0env_sma_de_kurtosis', 'mfcc_sma[5]_iqr2-3', 'lspFreq_sma_de[4]_max', 'lspFreq_sma_de[2]_min', 'lspFreq_sma[2]_iqr1-3', 'mfcc_sma[11]_range', 'lspFreq_sma_de[3]_quartile1', 'mfcc_sma[11]_linregerrQ', 'mfcc_sma_de[10]_range', 'pcm_zcr_sma_quartile2', 'mfcc_sma[12]_iqr1-3', 'lspFreq_sma[7]_minPos', 'mfcc_sma[10]_iqr2-3', 'pcm_zcr_sma_iqr1-2', 'mfcc_sma_de[1]_maxPos', 'lspFreq_sma_de[3]_skewness', 'mfcc_sma_de[12]_maxPos', 'mfcc_sma_de[6]_quartile3', 'lspFreq_sma[4]_iqr1-2', 'mfcc_sma[11]_stddev', 'mfcc_sma[7]_min', 'lspFreq_sma_de[2]_kurtosis', 'mfcc_sma[11]_skewness', 'mfcc_sma[11]_amean', 'mfcc_sma_de[6]_linregerrQ', 'mfcc_sma_de[6]_iqr1-3', 'mfcc_sma_de[6]_quartile1', 'mfcc_sma[7]_max', 'mfcc_sma[11]_linregerrA', 'lspFreq_sma_de[4]_range', 'lspFreq_sma_de[1]_linregc1', 'mfcc_sma[8]_amean', 'lspFreq_sma_de[0]_quartile1', 'lspFreq_sma_de[3]_iqr1-3', 'lspFreq_sma[5]_iqr1-2', 'mfcc_sma_de[6]_stddev', 'mfcc_sma_de[10]_max', 'mfcc_sma_de[10]_maxPos', 'lspFreq_sma[3]_minPos', 'lspFreq_sma_de[4]_skewness', 'mfcc_sma[8]_quartile2', 'mfcc_sma[8]_quartile1', 'pcm_zcr_sma_de_max', 'mfcc_sma[11]_kurtosis', 'F0env_sma_de_quartile3', 'mfcc_sma_de[2]_range', 'pcm_intensity_sma_minPos', 'mfcc_sma[8]_linregc1', 'mfcc_sma_de[8]_range', 'lspFreq_sma[6]_amean', 'lspFreq_sma_de[4]_iqr2-3', 'mfcc_sma[2]_iqr2-3', 'lspFreq_sma[2]_maxPos', 'mfcc_sma_de[10]_min', 'mfcc_sma_de[10]_linregc2', 'mfcc_sma_de[2]_max', 'lspFreq_sma[3]_linregc1', 'pcm_zcr_sma_max', 'pcm_zcr_sma_de_range', 'pcm_zcr_sma_range', 'lspFreq_sma_de[3]_amean', 'lspFreq_sma[6]_quartile1', 'mfcc_sma_de[10]_amean', 'mfcc_sma_de[9]_max', 'mfcc_sma[5]_linregc1', 'pcm_loudness_sma_kurtosis', 'mfcc_sma_de[12]_linregc2', 'lspFreq_sma_de[1]_quartile3', 'lspFreq_sma_de[0]_kurtosis', 'pcm_zcr_sma_de_skewness', 'voiceProb_sma_de_iqr1-2', 'mfcc_sma_de[6]_kurtosis', 'mfcc_sma_de[2]_skewness', 'lspFreq_sma[2]_min', 'mfcc_sma_de[2]_linregerrQ', 'lspFreq_sma_de[1]_maxPos', 'pcm_intensity_sma_maxPos', 'mfcc_sma_de[1]_quartile3', 'voiceProb_sma_min', 'lspFreq_sma[3]_iqr1-2', 'F0_sma_de_linregerrA', 'mfcc_sma_de[2]_linregc1', 'lspFreq_sma[7]_range', 'lspFreq_sma[4]_minPos', 'mfcc_sma_de[8]_linregc2', 'mfcc_sma[12]_linregerrA', 'lspFreq_sma[5]_quartile2', 'F0env_sma_de_iqr1-3', 'mfcc_sma_de[12]_linregerrA', 'pcm_loudness_sma_min', 'pcm_loudness_sma_de_range', 'mfcc_sma[4]_kurtosis', 'mfcc_sma[8]_range', 'mfcc_sma[7]_iqr1-2', 'mfcc_sma[5]_quartile2', 'lspFreq_sma[4]_max', 'lspFreq_sma[5]_quartile3', 'mfcc_sma[5]_min', 'lspFreq_sma[6]_stddev', 'lspFreq_sma[4]_linregerrQ', 'F0_sma_de_stddev', 'pcm_zcr_sma_de_min', 'voiceProb_sma_de_stddev', 'mfcc_sma[10]_iqr1-3', 'mfcc_sma_de[2]_min', 'mfcc_sma_de[5]_maxPos', 'pcm_intensity_sma_de_stddev', 'pcm_intensity_sma_de_linregc1', 'lspFreq_sma_de[7]_stddev', 'F0_sma_quartile1', 'mfcc_sma[9]_iqr1-2', 'mfcc_sma[2]_linregc2', 'voiceProb_sma_de_iqr1-3', 'lspFreq_sma_de[7]_quartile1', 'lspFreq_sma_de[7]_linregerrA', 'pcm_intensity_sma_de_linregerrQ', 'pcm_loudness_sma_max', 'pcm_loudness_sma_de_min', 'lspFreq_sma_de[7]_max', 'lspFreq_sma_de[5]_linregc1', 'lspFreq_sma[0]_stddev', 'F0_sma_de_iqr1-3', 'F0env_sma_de_min', 'mfcc_sma[8]_maxPos', 'lspFreq_sma_de[7]_kurtosis', 'lspFreq_sma[6]_quartile2', 'mfcc_sma[5]_linregc2', 'mfcc_sma[6]_skewness', 'pcm_loudness_sma_minPos', 'mfcc_sma_de[6]_maxPos', 'mfcc_sma_de[12]_stddev', 'lspFreq_sma_de[6]_stddev', 'mfcc_sma_de[2]_stddev', 'F0env_sma_max', 'mfcc_sma[2]_quartile3', 'F0_sma_range', 'mfcc_sma_de[6]_amean', 'mfcc_sma[5]_iqr1-2', 'lspFreq_sma_de[6]_quartile2', 'mfcc_sma[4]_iqr2-3', 'lspFreq_sma_de[0]_linregerrA', 'mfcc_sma_de[1]_max', 'mfcc_sma_de[3]_linregc1', 'F0_sma_de_linregerrQ', 'mfcc_sma_de[3]_maxPos']\n"
     ]
    }
   ],
   "source": [
    "print(\"Top {top_n} features by permutation importance:\")\n",
    "print(top_feats)"
   ]
  },
  {
   "cell_type": "code",
   "execution_count": null,
   "id": "25abe82f-c5b7-4668-b3c9-233e155a0fae",
   "metadata": {},
   "outputs": [
    {
     "name": "stderr",
     "output_type": "stream",
     "text": [
      "C:\\Users\\jbkee\\AppData\\Local\\Programs\\Python\\Python313\\Lib\\site-packages\\sklearn\\utils\\validation.py:1408: DataConversionWarning: A column-vector y was passed when a 1d array was expected. Please change the shape of y to (n_samples, ), for example using ravel().\n",
      "  y = column_or_1d(y, warn=True)\n"
     ]
    },
    {
     "name": "stdout",
     "output_type": "stream",
     "text": [
      "=== Happy Binary Classification Report ===\n",
      "              precision    recall  f1-score   support\n",
      "\n",
      "   not happy       0.91      0.78      0.84       530\n",
      "       happy       0.36      0.61      0.45       107\n",
      "\n",
      "    accuracy                           0.75       637\n",
      "   macro avg       0.63      0.69      0.65       637\n",
      "weighted avg       0.82      0.75      0.77       637\n",
      "\n"
     ]
    },
    {
     "data": {
      "image/png": "[encoded data removed]",
      "text/plain": [
       "<Figure size 600x400 with 2 Axes>"
      ]
     },
     "metadata": {},
     "output_type": "display_data"
    }
   ],
   "source": [
    "selector2 = ColumnTransformer(\n",
    "  [\n",
    "    (\"pick_happy\", \"passthrough\", top_feats)\n",
    "  ],\n",
    "  remainder=\"drop\"\n",
    ")\n",
    "\n",
    "happy_pipe2 = Pipeline([\n",
    "    (\"select\", selector2),\n",
    "    (\"clf\", LogisticRegression(\n",
    "        penalty=\"l1\",\n",
    "        solver=\"saga\",\n",
    "        C=1.0,\n",
    "        class_weight=\"balanced\",\n",
    "        max_iter=5000,\n",
    "        random_state=42\n",
    "      ))\n",
    "])\n",
    "\n",
    "happy_pipe2.fit(x_train, y_train)\n",
    "\n",
    "y_pred2 = happy_pipe2.predict(x_test)\n",
    "print(\"=== Happy Binary Classification Report ===\")\n",
    "print(classification_report(y_test, y_pred2, target_names=[\"not happy\",\"happy\"]))\n",
    "\n",
    "cm2 = confusion_matrix(y_test, y_pred)\n",
    "\n",
    "plt.figure(figsize=(6, 4))\n",
    "sns.heatmap(\n",
    "    cm2, \n",
    "    annot=True, \n",
    "    fmt=\"d\", \n",
    "    cmap=\"Blues\",\n",
    "    xticklabels=[f\"Not {\"happy\"}\", \"happy\"],\n",
    "    yticklabels=[f\"Not {\"happy\"}\", \"happy\"]\n",
    ")\n",
    "plt.xlabel(\"Predicted\")\n",
    "plt.ylabel(\"True\")\n",
    "plt.title(f\"Confusion Matrix – '{\"happy\"}' Binary Classifier\")\n",
    "plt.tight_layout()\n",
    "plt.show()\n"
   ]
  },
  {
   "cell_type": "code",
   "execution_count": null,
   "id": "e6a7f2f1-6a59-44b6-ad96-1861315a1fe7",
   "metadata": {},
   "outputs": [],
   "source": [
    "# (\"clf\", XGBClassifier(\n",
    "#         use_label_encoder=False,\n",
    "#         eval_metric=\"logloss\",\n",
    "#         scale_pos_weight=(y_train==0).sum()/(y_train==1).sum()\n",
    "#     ))\n",
    "# (\"clf\", MLPClassifier(\n",
    "#         hidden_layer_sizes=(128, 64),\n",
    "#         activation=\"relu\",\n",
    "#         alpha=1e-3,\n",
    "#         learning_rate_init=1e-3,\n",
    "#         solver=\"adam\",\n",
    "#         max_iter=1000,\n",
    "#         random_state=42,\n",
    "#         verbose=False\n",
    "#     ))\n",
    "# (\"clf\", LogisticRegression(\n",
    "#         penalty=\"l1\",\n",
    "#         solver=\"saga\",\n",
    "#         C=1.0,\n",
    "#         class_weight=\"balanced\",\n",
    "#         max_iter=5000,\n",
    "#         random_state=42\n",
    "#     ))\n",
    "# (\"clf\", SVC(\n",
    "#         kernel=\"linear\",\n",
    "#         class_weight=\"balanced\",\n",
    "#         random_state=42\n",
    "#     ))\n",
    "# (\"clf\", RandomForestClassifier(\n",
    "#         n_estimators=100,\n",
    "#         max_depth=10,\n",
    "#         class_weight=\"balanced\",\n",
    "#         random_state=42\n",
    "#     ))\n",
    "# (\"clf\", KNeighborsClassifier(\n",
    "#         n_neighbors=5,\n",
    "#         weights=\"distance\",\n",
    "#         metric=\"euclidean\",\n",
    "#         n_jobs=-1\n",
    "#     ))\n",
    "# (\"clf\", ExtraTreesClassifier(\n",
    "#         n_estimators=100,\n",
    "#         max_depth=10,\n",
    "#         class_weight=\"balanced\",\n",
    "#         random_state=42\n",
    "#     ))\n"
   ]
  },
  {
   "cell_type": "code",
   "execution_count": null,
   "id": "a0ce7daa-6150-4060-899d-b37ba2908c6b",
   "metadata": {},
   "outputs": [],
   "source": []
  }
 ],
 "metadata": {
  "kernelspec": {
   "display_name": "Python 3 (ipykernel)",
   "language": "python",
   "name": "python3"
  },
  "language_info": {
   "codemirror_mode": {
    "name": "ipython",
    "version": 3
   },
   "file_extension": ".py",
   "mimetype": "text/x-python",
   "name": "python",
   "nbconvert_exporter": "python",
   "pygments_lexer": "ipython3",
   "version": "3.13.3"
  }
 },
 "nbformat": 4,
 "nbformat_minor": 5
}
